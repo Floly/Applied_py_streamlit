{
 "cells": [
  {
   "cell_type": "code",
   "execution_count": 2,
   "metadata": {},
   "outputs": [],
   "source": [
    "import pandas as pd"
   ]
  },
  {
   "cell_type": "code",
   "execution_count": 3,
   "metadata": {},
   "outputs": [],
   "source": [
    "# # Можно было сделать так, но запоминать индексы сложнее, чем названия \n",
    "\n",
    "# import os\n",
    "# dfs = []\n",
    "# for file_nm in os.listdir('datasets/'):\n",
    "#     if 'D_' in file_nm:\n",
    "#         df = pd.read_csv('datasets/' + file_nm)\n",
    "#         dfs.append(df)\n"
   ]
  },
  {
   "cell_type": "code",
   "execution_count": 4,
   "metadata": {},
   "outputs": [],
   "source": [
    "clients = pd.read_csv('datasets/D_clients.csv')\n",
    "close_loan = pd.read_csv('datasets/D_close_loan.csv')\n",
    "job = pd.read_csv('datasets/D_job.csv')\n",
    "last_credit = pd.read_csv('datasets/D_last_credit.csv')\n",
    "loan = pd.read_csv('datasets/D_loan.csv')\n",
    "pens = pd.read_csv('datasets/D_pens.csv')\n",
    "salary = pd.read_csv('datasets/D_salary.csv')\n",
    "target = pd.read_csv('datasets/D_target.csv')\n",
    "work = pd.read_csv('datasets/D_work.csv')"
   ]
  },
  {
   "cell_type": "code",
   "execution_count": 5,
   "metadata": {},
   "outputs": [],
   "source": [
    "# Убираем все дубликаты из таблиц\n",
    "\n",
    "dfs = [clients, close_loan, job, last_credit, loan, pens, salary, target, work]\n",
    "for df in dfs:\n",
    "    df.drop_duplicates(inplace=True)"
   ]
  },
  {
   "cell_type": "markdown",
   "metadata": {},
   "source": [
    "    - AGREEMENT_RK — уникальный идентификатор объекта в выборке;\n",
    "    - TARGET — целевая переменная: отклик на маркетинговую кампанию (1 — отклик был зарегистрирован, 0 — отклика не было);\n",
    "    - AGE — возраст клиента;\n",
    "    - SOCSTATUS_WORK_FL — социальный статус клиента относительно работы (1 — работает, 0 — не работает);\n",
    "    - SOCSTATUS_PENS_FL — социальный статус клиента относительно пенсии (1 — пенсионер, 0 — не пенсионер);\n",
    "    - GENDER — пол клиента (1 — мужчина, 0 — женщина);\n",
    "    - CHILD_TOTAL — количество детей клиента;\n",
    "    - DEPENDANTS — количество иждивенцев клиента;\n",
    "    - PERSONAL_INCOME — личный доход клиента (в рублях);\n",
    "    - LOAN_NUM_TOTAL — количество ссуд клиента;\n",
    "    - LOAN_NUM_CLOSED — количество погашенных ссуд клиента.\n"
   ]
  },
  {
   "cell_type": "code",
   "execution_count": 6,
   "metadata": {},
   "outputs": [],
   "source": [
    "# Отдельно рассчитываю агрегаты ссуд на клиента\n",
    "loans_table = pd.merge(loan, close_loan, on='ID_LOAN')\n",
    "loans_table = loans_table.groupby('ID_CLIENT').agg({'CLOSED_FL':['count','sum']})\n",
    "loans_table.columns = ['LOAN_NUM_TOTAL', 'LOAN_NUM_CLOSED']"
   ]
  },
  {
   "cell_type": "code",
   "execution_count": 7,
   "metadata": {},
   "outputs": [],
   "source": [
    "# Собираю базовую таблицу\n",
    "\n",
    "t1 = pd.merge(target, \n",
    "              clients[['ID', 'AGE', 'SOCSTATUS_WORK_FL', 'SOCSTATUS_PENS_FL','GENDER','CHILD_TOTAL','DEPENDANTS']],\n",
    "              left_on='ID_CLIENT', \n",
    "              right_on='ID',\n",
    "              how='left'\n",
    "              ).drop(['ID'], axis=1)\n",
    "\n",
    "t2 = pd.merge(t1,\n",
    "              salary[['ID_CLIENT', 'PERSONAL_INCOME']],\n",
    "              on='ID_CLIENT',\n",
    "              how='left')\n",
    "\n",
    "t3 = pd.merge(t2, loans_table, on='ID_CLIENT')\n",
    "t3.to_csv('datasets/D_basic.csv')"
   ]
  },
  {
   "cell_type": "code",
   "execution_count": 8,
   "metadata": {},
   "outputs": [
    {
     "name": "stdout",
     "output_type": "stream",
     "text": [
      "<class 'pandas.core.frame.DataFrame'>\n",
      "Int64Index: 15223 entries, 0 to 15222\n",
      "Data columns (total 12 columns):\n",
      " #   Column             Non-Null Count  Dtype  \n",
      "---  ------             --------------  -----  \n",
      " 0   AGREEMENT_RK       15223 non-null  int64  \n",
      " 1   ID_CLIENT          15223 non-null  int64  \n",
      " 2   TARGET             15223 non-null  int64  \n",
      " 3   AGE                15223 non-null  int64  \n",
      " 4   SOCSTATUS_WORK_FL  15223 non-null  int64  \n",
      " 5   SOCSTATUS_PENS_FL  15223 non-null  int64  \n",
      " 6   GENDER             15223 non-null  int64  \n",
      " 7   CHILD_TOTAL        15223 non-null  int64  \n",
      " 8   DEPENDANTS         15223 non-null  int64  \n",
      " 9   PERSONAL_INCOME    15223 non-null  float64\n",
      " 10  LOAN_NUM_TOTAL     15223 non-null  int64  \n",
      " 11  LOAN_NUM_CLOSED    15223 non-null  int64  \n",
      "dtypes: float64(1), int64(11)\n",
      "memory usage: 1.5 MB\n"
     ]
    }
   ],
   "source": [
    "t3.info()"
   ]
  },
  {
   "cell_type": "code",
   "execution_count": null,
   "metadata": {},
   "outputs": [],
   "source": []
  }
 ],
 "metadata": {
  "kernelspec": {
   "display_name": "Python 3",
   "language": "python",
   "name": "python3"
  },
  "language_info": {
   "codemirror_mode": {
    "name": "ipython",
    "version": 3
   },
   "file_extension": ".py",
   "mimetype": "text/x-python",
   "name": "python",
   "nbconvert_exporter": "python",
   "pygments_lexer": "ipython3",
   "version": "3.11.6"
  }
 },
 "nbformat": 4,
 "nbformat_minor": 2
}
